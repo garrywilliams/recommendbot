{
 "cells": [
  {
   "cell_type": "code",
   "execution_count": 1,
   "id": "eb17ccd3-a91f-488a-9dda-8ac5bd26c4a6",
   "metadata": {},
   "outputs": [],
   "source": [
    "import pandas as pd\n",
    "import requests"
   ]
  },
  {
   "cell_type": "markdown",
   "id": "bfdd9756-cd84-4eba-9445-9bbfc67844a6",
   "metadata": {},
   "source": [
    "## Data exploration\n",
    "\n",
    "Load the members and jobs data from the endpoints for investigation"
   ]
  },
  {
   "cell_type": "code",
   "execution_count": 2,
   "id": "ca756f92-a96c-43ca-885c-cdca35e0172d",
   "metadata": {
    "scrolled": true
   },
   "outputs": [
    {
     "name": "stdout",
     "output_type": "stream",
     "text": [
      "<class 'pandas.core.frame.DataFrame'>\n",
      "RangeIndex: 5 entries, 0 to 4\n",
      "Data columns (total 2 columns):\n",
      " #   Column  Non-Null Count  Dtype \n",
      "---  ------  --------------  ----- \n",
      " 0   name    5 non-null      object\n",
      " 1   bio     5 non-null      object\n",
      "dtypes: object(2)\n",
      "memory usage: 212.0+ bytes\n"
     ]
    }
   ],
   "source": [
    "# Define the URL\n",
    "url = \"https://bn-hiring-challenge.fly.dev/members.json\"\n",
    "\n",
    "# Fetch the JSON data from the URL\n",
    "response = requests.get(url)\n",
    "data = response.json()\n",
    "\n",
    "# Load the JSON data into a DataFrame\n",
    "members_df = pd.DataFrame(data)\n",
    "members_df.info()"
   ]
  },
  {
   "cell_type": "code",
   "execution_count": 3,
   "id": "e7007c4e-c476-4fd4-882f-cd0fd4c21483",
   "metadata": {},
   "outputs": [
    {
     "data": {
      "text/html": [
       "<div>\n",
       "<style scoped>\n",
       "    .dataframe tbody tr th:only-of-type {\n",
       "        vertical-align: middle;\n",
       "    }\n",
       "\n",
       "    .dataframe tbody tr th {\n",
       "        vertical-align: top;\n",
       "    }\n",
       "\n",
       "    .dataframe thead th {\n",
       "        text-align: right;\n",
       "    }\n",
       "</style>\n",
       "<table border=\"1\" class=\"dataframe\">\n",
       "  <thead>\n",
       "    <tr style=\"text-align: right;\">\n",
       "      <th></th>\n",
       "      <th>name</th>\n",
       "      <th>bio</th>\n",
       "    </tr>\n",
       "  </thead>\n",
       "  <tbody>\n",
       "    <tr>\n",
       "      <th>0</th>\n",
       "      <td>Joe</td>\n",
       "      <td>I'm a designer from London, UK</td>\n",
       "    </tr>\n",
       "    <tr>\n",
       "      <th>1</th>\n",
       "      <td>Marta</td>\n",
       "      <td>I'm looking for an internship in London</td>\n",
       "    </tr>\n",
       "    <tr>\n",
       "      <th>2</th>\n",
       "      <td>Hassan</td>\n",
       "      <td>I'm looking for a design job</td>\n",
       "    </tr>\n",
       "    <tr>\n",
       "      <th>3</th>\n",
       "      <td>Grace</td>\n",
       "      <td>I'm looking for a job in marketing outside of ...</td>\n",
       "    </tr>\n",
       "    <tr>\n",
       "      <th>4</th>\n",
       "      <td>Daisy</td>\n",
       "      <td>I'm a software developer currently in Edinburg...</td>\n",
       "    </tr>\n",
       "  </tbody>\n",
       "</table>\n",
       "</div>"
      ],
      "text/plain": [
       "     name                                                bio\n",
       "0     Joe                     I'm a designer from London, UK\n",
       "1   Marta            I'm looking for an internship in London\n",
       "2  Hassan                       I'm looking for a design job\n",
       "3   Grace  I'm looking for a job in marketing outside of ...\n",
       "4   Daisy  I'm a software developer currently in Edinburg..."
      ]
     },
     "execution_count": 3,
     "metadata": {},
     "output_type": "execute_result"
    }
   ],
   "source": [
    "members_df.head()"
   ]
  },
  {
   "cell_type": "code",
   "execution_count": 4,
   "id": "f790fee6-a021-4308-b56a-f0fb53ca78e4",
   "metadata": {},
   "outputs": [
    {
     "name": "stdout",
     "output_type": "stream",
     "text": [
      "<class 'pandas.core.frame.DataFrame'>\n",
      "RangeIndex: 8 entries, 0 to 7\n",
      "Data columns (total 2 columns):\n",
      " #   Column    Non-Null Count  Dtype \n",
      "---  ------    --------------  ----- \n",
      " 0   title     8 non-null      object\n",
      " 1   location  8 non-null      object\n",
      "dtypes: object(2)\n",
      "memory usage: 260.0+ bytes\n"
     ]
    }
   ],
   "source": [
    "# Define the URL\n",
    "url = \"https://bn-hiring-challenge.fly.dev/jobs.json\"\n",
    "\n",
    "# Fetch the JSON data from the URL\n",
    "response = requests.get(url)\n",
    "data = response.json()\n",
    "\n",
    "# Load the JSON data into a DataFrame\n",
    "jobs_df = pd.DataFrame(data)\n",
    "jobs_df.info()"
   ]
  },
  {
   "cell_type": "code",
   "execution_count": 5,
   "id": "ce1277f5-0605-4fb2-b715-b30903f1b932",
   "metadata": {},
   "outputs": [
    {
     "data": {
      "text/html": [
       "<div>\n",
       "<style scoped>\n",
       "    .dataframe tbody tr th:only-of-type {\n",
       "        vertical-align: middle;\n",
       "    }\n",
       "\n",
       "    .dataframe tbody tr th {\n",
       "        vertical-align: top;\n",
       "    }\n",
       "\n",
       "    .dataframe thead th {\n",
       "        text-align: right;\n",
       "    }\n",
       "</style>\n",
       "<table border=\"1\" class=\"dataframe\">\n",
       "  <thead>\n",
       "    <tr style=\"text-align: right;\">\n",
       "      <th></th>\n",
       "      <th>title</th>\n",
       "      <th>location</th>\n",
       "    </tr>\n",
       "  </thead>\n",
       "  <tbody>\n",
       "    <tr>\n",
       "      <th>0</th>\n",
       "      <td>Software Developer</td>\n",
       "      <td>London</td>\n",
       "    </tr>\n",
       "    <tr>\n",
       "      <th>1</th>\n",
       "      <td>Marketing Internship</td>\n",
       "      <td>York</td>\n",
       "    </tr>\n",
       "    <tr>\n",
       "      <th>2</th>\n",
       "      <td>Data Scientist</td>\n",
       "      <td>London</td>\n",
       "    </tr>\n",
       "    <tr>\n",
       "      <th>3</th>\n",
       "      <td>Legal Internship</td>\n",
       "      <td>London</td>\n",
       "    </tr>\n",
       "    <tr>\n",
       "      <th>4</th>\n",
       "      <td>Project Manager</td>\n",
       "      <td>Manchester</td>\n",
       "    </tr>\n",
       "  </tbody>\n",
       "</table>\n",
       "</div>"
      ],
      "text/plain": [
       "                  title    location\n",
       "0    Software Developer      London\n",
       "1  Marketing Internship        York\n",
       "2        Data Scientist      London\n",
       "3      Legal Internship      London\n",
       "4       Project Manager  Manchester"
      ]
     },
     "execution_count": 5,
     "metadata": {},
     "output_type": "execute_result"
    }
   ],
   "source": [
    "jobs_df.head()"
   ]
  },
  {
   "cell_type": "markdown",
   "id": "89e2bc1a-ce53-44b9-baf7-d0d33600810a",
   "metadata": {},
   "source": [
    "## Conclusions\n",
    "\n",
    "We have a set of members who have a `name` a `role` and an optional `location` preference. We have a set of jobs with a `role` (title) and a `location`.\n",
    "\n",
    "As a data science exercise there could be some additional work here to normalise entities, such as job roles and locations and build out some kind of similarity matrix and distance searches.\n",
    "\n",
    "For the purposes of this exercise, we'll just use string manipulation initially."
   ]
  },
  {
   "cell_type": "markdown",
   "id": "8c807999-9935-4acc-8258-e6c87bc00531",
   "metadata": {},
   "source": [
    "## Example Recommendation Process\n",
    "\n",
    "This initial recommendation process will use a naive string-matching approach"
   ]
  },
  {
   "cell_type": "code",
   "execution_count": 55,
   "id": "884e850d-d889-4f64-9703-9217762db4bf",
   "metadata": {},
   "outputs": [],
   "source": [
    "# Function to determine location preference from bio\n",
    "def get_location(bio):\n",
    "    bio = bio.lower()\n",
    "\n",
    "    if 'outside of london' in bio:\n",
    "        return 'outside of London'\n",
    "    elif 'london' in bio:\n",
    "        return 'London'\n",
    "\n",
    "    return None"
   ]
  },
  {
   "cell_type": "code",
   "execution_count": 56,
   "id": "6e39a2e0-5040-4c7f-8f2e-b52f47b4b4f5",
   "metadata": {},
   "outputs": [],
   "source": [
    "# Function to match job title with member bio\n",
    "def match_job_title(bio, job_title):\n",
    "    bio = bio.lower()\n",
    "    job_title = job_title.lower()\n",
    "    if 'design' in bio and 'design' in job_title:\n",
    "        return True\n",
    "    if 'internship' in bio and 'internship' in job_title:\n",
    "        return True\n",
    "    if 'software developer' in bio and 'software developer' in job_title:\n",
    "        return True\n",
    "    if 'marketing' in bio and 'marketing' in job_title:\n",
    "        return True\n",
    "    return False"
   ]
  },
  {
   "cell_type": "code",
   "execution_count": 57,
   "id": "b1e77fbc-1dbb-48d9-af08-6bbfbdc97ab8",
   "metadata": {},
   "outputs": [],
   "source": [
    "# Function to get recommendations for a single member\n",
    "def recommend_for_member(member):\n",
    "    member_bio = member['bio']\n",
    "    member_location = member['location']\n",
    "    \n",
    "    def job_match(job):\n",
    "        job_location = job['location']\n",
    "        job_title = job['title']\n",
    "        \n",
    "        # Match job location with member's location preference\n",
    "        if member_location == 'outside of London' and job_location == 'London':\n",
    "            return False\n",
    "        if member_location and member_location != 'outside of London' and job_location != member_location:\n",
    "            return False\n",
    "        \n",
    "        # Match job title with member's bio\n",
    "        return match_job_title(member_bio, job_title)\n",
    "    \n",
    "    # Filter jobs that match the member's preferences\n",
    "    matched_jobs = jobs_df[jobs_df.apply(job_match, axis=1)]\n",
    "    return matched_jobs.to_dict('records')"
   ]
  },
  {
   "cell_type": "code",
   "execution_count": 58,
   "id": "988e6dfd-4a5e-471a-b25e-826cb452c021",
   "metadata": {},
   "outputs": [],
   "source": [
    "# Add location preferences to members dataframe\n",
    "members_df['location'] = members_df['bio'].apply(get_location)"
   ]
  },
  {
   "cell_type": "code",
   "execution_count": 59,
   "id": "f848faf0-a49b-4059-8ad1-f721a1490daf",
   "metadata": {},
   "outputs": [
    {
     "data": {
      "text/html": [
       "<div>\n",
       "<style scoped>\n",
       "    .dataframe tbody tr th:only-of-type {\n",
       "        vertical-align: middle;\n",
       "    }\n",
       "\n",
       "    .dataframe tbody tr th {\n",
       "        vertical-align: top;\n",
       "    }\n",
       "\n",
       "    .dataframe thead th {\n",
       "        text-align: right;\n",
       "    }\n",
       "</style>\n",
       "<table border=\"1\" class=\"dataframe\">\n",
       "  <thead>\n",
       "    <tr style=\"text-align: right;\">\n",
       "      <th></th>\n",
       "      <th>name</th>\n",
       "      <th>bio</th>\n",
       "      <th>location</th>\n",
       "    </tr>\n",
       "  </thead>\n",
       "  <tbody>\n",
       "    <tr>\n",
       "      <th>0</th>\n",
       "      <td>Joe</td>\n",
       "      <td>I'm a designer from London, UK</td>\n",
       "      <td>London</td>\n",
       "    </tr>\n",
       "    <tr>\n",
       "      <th>1</th>\n",
       "      <td>Marta</td>\n",
       "      <td>I'm looking for an internship in London</td>\n",
       "      <td>London</td>\n",
       "    </tr>\n",
       "    <tr>\n",
       "      <th>2</th>\n",
       "      <td>Hassan</td>\n",
       "      <td>I'm looking for a design job</td>\n",
       "      <td>None</td>\n",
       "    </tr>\n",
       "    <tr>\n",
       "      <th>3</th>\n",
       "      <td>Grace</td>\n",
       "      <td>I'm looking for a job in marketing outside of ...</td>\n",
       "      <td>outside of London</td>\n",
       "    </tr>\n",
       "    <tr>\n",
       "      <th>4</th>\n",
       "      <td>Daisy</td>\n",
       "      <td>I'm a software developer currently in Edinburg...</td>\n",
       "      <td>London</td>\n",
       "    </tr>\n",
       "  </tbody>\n",
       "</table>\n",
       "</div>"
      ],
      "text/plain": [
       "     name                                                bio  \\\n",
       "0     Joe                     I'm a designer from London, UK   \n",
       "1   Marta            I'm looking for an internship in London   \n",
       "2  Hassan                       I'm looking for a design job   \n",
       "3   Grace  I'm looking for a job in marketing outside of ...   \n",
       "4   Daisy  I'm a software developer currently in Edinburg...   \n",
       "\n",
       "            location  \n",
       "0             London  \n",
       "1             London  \n",
       "2               None  \n",
       "3  outside of London  \n",
       "4             London  "
      ]
     },
     "execution_count": 59,
     "metadata": {},
     "output_type": "execute_result"
    }
   ],
   "source": [
    "members_df"
   ]
  },
  {
   "cell_type": "code",
   "execution_count": 60,
   "id": "764568c4-2047-4538-b7d0-ba0884778613",
   "metadata": {},
   "outputs": [
    {
     "data": {
      "text/plain": [
       "{'Joe': [{'title': 'UX Designer', 'location': 'London'}],\n",
       " 'Marta': [{'title': 'Legal Internship', 'location': 'London'},\n",
       "  {'title': 'Sales Internship', 'location': 'London'}],\n",
       " 'Hassan': [{'title': 'UX Designer', 'location': 'London'}],\n",
       " 'Grace': [{'title': 'Marketing Internship', 'location': 'York'}],\n",
       " 'Daisy': [{'title': 'Software Developer', 'location': 'London'}]}"
      ]
     },
     "execution_count": 60,
     "metadata": {},
     "output_type": "execute_result"
    }
   ],
   "source": [
    "# Create the recommendations dictionary\n",
    "recommendations = {member['name']: recommend_for_member(member) for _, member in members_df.iterrows()}\n",
    "\n",
    "recommendations"
   ]
  },
  {
   "cell_type": "code",
   "execution_count": 61,
   "id": "4b773d42-5a80-452a-ac83-cf8484e9e201",
   "metadata": {},
   "outputs": [
    {
     "name": "stdout",
     "output_type": "stream",
     "text": [
      "Joe:\n",
      "  - UX Designer in London\n",
      "Marta:\n",
      "  - Legal Internship in London\n",
      "  - Sales Internship in London\n",
      "Hassan:\n",
      "  - UX Designer in London\n",
      "Grace:\n",
      "  - Marketing Internship in York\n",
      "Daisy:\n",
      "  - Software Developer in London\n"
     ]
    }
   ],
   "source": [
    "# Print recommendations\n",
    "for member, jobs in recommendations.items():\n",
    "    print(f\"{member}:\")\n",
    "    for job in jobs:\n",
    "        print(f\"  - {job['title']} in {job['location']}\")"
   ]
  },
  {
   "cell_type": "code",
   "execution_count": null,
   "id": "a16ad844-d9d1-4bc2-9ed2-44ecbac9e97a",
   "metadata": {},
   "outputs": [],
   "source": []
  }
 ],
 "metadata": {
  "kernelspec": {
   "display_name": "Python 3 (ipykernel)",
   "language": "python",
   "name": "python3"
  },
  "language_info": {
   "codemirror_mode": {
    "name": "ipython",
    "version": 3
   },
   "file_extension": ".py",
   "mimetype": "text/x-python",
   "name": "python",
   "nbconvert_exporter": "python",
   "pygments_lexer": "ipython3",
   "version": "3.11.6"
  }
 },
 "nbformat": 4,
 "nbformat_minor": 5
}
